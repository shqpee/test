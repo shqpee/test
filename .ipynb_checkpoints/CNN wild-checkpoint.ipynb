{
 "cells": [
  {
   "cell_type": "code",
   "execution_count": 18,
   "id": "0321601b-bd3f-4877-9593-5014a4d646da",
   "metadata": {},
   "outputs": [],
   "source": [
    "import pandas as pd\n",
    "import tensorflow as tf\n",
    "import keras\n",
    "from tensorflow.keras import datasets, layers, models\n",
    "import matplotlib.pyplot as plt\n",
    "from tensorflow.keras.preprocessing import image_dataset_from_directory\n",
    "from tensorflow.keras import Sequential, layers\n",
    "from tensorflow.keras.layers import Input, Dense, GlobalAveragePooling2D, Dropout, Flatten\n",
    "from tensorflow.keras.applications import ResNet50\n",
    "from tensorflow.keras.models import Model\n",
    "from tensorflow.keras.callbacks import EarlyStopping\n",
    "from tensorflow.keras.optimizers import Adam\n"
   ]
  },
  {
   "cell_type": "code",
   "execution_count": 2,
   "id": "c6717315-4c99-4fd6-b824-d02e2d8608be",
   "metadata": {},
   "outputs": [],
   "source": [
    "## Création d'un dataset d'image à partir d'un dossier\n",
    "# Un dataset train et un test"
   ]
  },
  {
   "cell_type": "code",
   "execution_count": 3,
   "id": "1c061b01-7a83-493a-b625-0d1d8ff7de3e",
   "metadata": {},
   "outputs": [],
   "source": [
    "dataset = \".ipynb_checkpoints/Mammiferes\""
   ]
  },
  {
   "cell_type": "code",
   "execution_count": 4,
   "id": "1562abc2-5b42-4366-9db8-407cc5ec9c52",
   "metadata": {},
   "outputs": [],
   "source": [
    "batch_size = 16 #nombre d'image à chaque epoch pour s'entrainer\n",
    "seed = 12 #comme random state, pour se reproduire de la meme maniere\n",
    "img_size = (256, 256) #taille d'image"
   ]
  },
  {
   "cell_type": "code",
   "execution_count": 5,
   "id": "9e54fb24-3fd5-4e1f-b05c-c9e215b38593",
   "metadata": {},
   "outputs": [
    {
     "name": "stdout",
     "output_type": "stream",
     "text": [
      "Found 252 files belonging to 13 classes.\n",
      "Using 202 files for training.\n"
     ]
    }
   ],
   "source": [
    "train_dataset = image_dataset_from_directory(\n",
    "    dataset, \n",
    "    labels=\"inferred\", #donne les labels par rapport aux sous dossier\n",
    "    label_mode=\"categorical\",\n",
    "    batch_size=batch_size,\n",
    "    image_size=img_size,\n",
    "    shuffle=True, #respecter un ordre atrificiel (qu'on lui donne)\n",
    "    validation_split=0.2,\n",
    "    subset=\"training\",\n",
    "    seed=seed,\n",
    "    color_mode=\"rgb\"\n",
    ")"
   ]
  },
  {
   "cell_type": "code",
   "execution_count": 6,
   "id": "ca9ef648-16b6-440f-9999-8e4f86f5c101",
   "metadata": {},
   "outputs": [],
   "source": [
    "num_classes = len(train_dataset.class_names)\n",
    "#compter le nb de classes"
   ]
  },
  {
   "cell_type": "code",
   "execution_count": 7,
   "id": "114252eb-6b41-49cf-ac39-0388ff8a0cbb",
   "metadata": {},
   "outputs": [
    {
     "name": "stdout",
     "output_type": "stream",
     "text": [
      "13\n"
     ]
    }
   ],
   "source": [
    "print(num_classes)"
   ]
  },
  {
   "cell_type": "code",
   "execution_count": 8,
   "id": "674455da-5bf5-47fd-8431-cfccbd14618b",
   "metadata": {},
   "outputs": [
    {
     "name": "stdout",
     "output_type": "stream",
     "text": [
      "Found 252 files belonging to 13 classes.\n",
      "Using 50 files for validation.\n"
     ]
    }
   ],
   "source": [
    "validation_dataset  = image_dataset_from_directory(\n",
    "    dataset, \n",
    "    labels=\"inferred\", #donne les labels par rapport aux sous dossier\n",
    "    label_mode=\"categorical\",\n",
    "    batch_size=batch_size,\n",
    "    image_size=img_size,\n",
    "    shuffle=True, #respecter un ordre atrificiel (qu'on lui donne)\n",
    "    validation_split=0.2,\n",
    "    subset=\"validation\",\n",
    "    seed=seed,\n",
    "    color_mode=\"rgb\"\n",
    ")"
   ]
  },
  {
   "cell_type": "code",
   "execution_count": 11,
   "id": "1d90ac31-cec9-4f80-80bd-aa6229635b07",
   "metadata": {},
   "outputs": [],
   "source": [
    "#data augmentation (facultatif ici)\n",
    "\n",
    "data_augmentation = Sequential([\n",
    "    layers.RandomFlip(\"horizontal\"),\n",
    "    layers.RandomRotation(0.1),\n",
    "    layers.RandomZoom(0.1),\n",
    "    layers.RandomTranslation(0.1, 0.1),\n",
    "    layers.RandomBrightness(0.2),\n",
    "    layers.GaussianNoise(0.05),\n",
    "])"
   ]
  },
  {
   "cell_type": "code",
   "execution_count": 20,
   "id": "ca60af05-1180-407f-8f81-e5e82d63d4c8",
   "metadata": {},
   "outputs": [],
   "source": [
    "#facultatif (pré entrainé)\n",
    "inputs = Input(shape=(256, 256, 3))\n",
    "\n",
    "x = data_augmentation(inputs)\n",
    "\n",
    "base_model = ResNet50(weights=\"imagenet\", include_top=False, input_tensor=x)\n",
    "base_model.trainable=False\n",
    "\n",
    "x = base_model.output\n",
    "x = GlobalAveragePooling2D()(x)\n",
    "x = Dropout(0.5)(x)\n",
    "x = Dense(128, activation=\"relu\")(x)\n",
    "x = Dropout(0.3)(x)\n",
    "predictions = Dense(num_classes, activation=\"softmax\")(x)\n",
    "\n",
    "model = Model(inputs=inputs, outputs=predictions)"
   ]
  },
  {
   "cell_type": "code",
   "execution_count": 22,
   "id": "47e23d33-1690-41cc-b622-3b3a96f63d60",
   "metadata": {},
   "outputs": [],
   "source": [
    "model.compile(\n",
    "    optimizer=Adam(learning_rate=1e-3),\n",
    "    loss=\"categorical_crossentropy\",\n",
    "    metrics=[\"accuracy\"]\n",
    ")"
   ]
  },
  {
   "cell_type": "code",
   "execution_count": 23,
   "id": "657e5512-81ed-43e4-a227-44a9192a56f9",
   "metadata": {},
   "outputs": [],
   "source": [
    "early_stop = EarlyStopping(\n",
    "    monitor=\"val_loss\",\n",
    "    patience=10,\n",
    "    restore_best_weights=True\n",
    ")"
   ]
  },
  {
   "cell_type": "code",
   "execution_count": 29,
   "id": "c8d35233-efa2-47f5-8270-609fe6ff8a67",
   "metadata": {},
   "outputs": [
    {
     "name": "stdout",
     "output_type": "stream",
     "text": [
      "Epoch 1/25\n",
      "\u001b[1m13/13\u001b[0m \u001b[32m━━━━━━━━━━━━━━━━━━━━\u001b[0m\u001b[37m\u001b[0m \u001b[1m18s\u001b[0m 1s/step - accuracy: 0.6931 - loss: 0.8800 - val_accuracy: 0.2600 - val_loss: 2.7861\n",
      "Epoch 2/25\n",
      "\u001b[1m13/13\u001b[0m \u001b[32m━━━━━━━━━━━━━━━━━━━━\u001b[0m\u001b[37m\u001b[0m \u001b[1m22s\u001b[0m 2s/step - accuracy: 0.7178 - loss: 0.8414 - val_accuracy: 0.2200 - val_loss: 2.8822\n",
      "Epoch 3/25\n",
      "\u001b[1m13/13\u001b[0m \u001b[32m━━━━━━━━━━━━━━━━━━━━\u001b[0m\u001b[37m\u001b[0m \u001b[1m22s\u001b[0m 2s/step - accuracy: 0.7079 - loss: 0.8860 - val_accuracy: 0.2000 - val_loss: 3.0379\n",
      "Epoch 4/25\n",
      "\u001b[1m13/13\u001b[0m \u001b[32m━━━━━━━━━━━━━━━━━━━━\u001b[0m\u001b[37m\u001b[0m \u001b[1m22s\u001b[0m 2s/step - accuracy: 0.6832 - loss: 0.9411 - val_accuracy: 0.2200 - val_loss: 3.1336\n",
      "Epoch 5/25\n",
      "\u001b[1m13/13\u001b[0m \u001b[32m━━━━━━━━━━━━━━━━━━━━\u001b[0m\u001b[37m\u001b[0m \u001b[1m22s\u001b[0m 2s/step - accuracy: 0.7376 - loss: 0.8319 - val_accuracy: 0.2000 - val_loss: 3.1147\n",
      "Epoch 6/25\n",
      "\u001b[1m13/13\u001b[0m \u001b[32m━━━━━━━━━━━━━━━━━━━━\u001b[0m\u001b[37m\u001b[0m \u001b[1m22s\u001b[0m 2s/step - accuracy: 0.6980 - loss: 0.8479 - val_accuracy: 0.2200 - val_loss: 3.1824\n"
     ]
    }
   ],
   "source": [
    "history = model.fit(\n",
    "    train_dataset,\n",
    "    validation_data=validation_dataset,\n",
    "    epochs=25,\n",
    "    callbacks=[early_stop],\n",
    "    verbose=1\n",
    ")"
   ]
  },
  {
   "cell_type": "code",
   "execution_count": null,
   "id": "7ee4f273-667c-4148-aa05-e10d81b8dd62",
   "metadata": {},
   "outputs": [],
   "source": []
  }
 ],
 "metadata": {
  "kernelspec": {
   "display_name": "Python 3 (ipykernel)",
   "language": "python",
   "name": "python3"
  },
  "language_info": {
   "codemirror_mode": {
    "name": "ipython",
    "version": 3
   },
   "file_extension": ".py",
   "mimetype": "text/x-python",
   "name": "python",
   "nbconvert_exporter": "python",
   "pygments_lexer": "ipython3",
   "version": "3.12.7"
  }
 },
 "nbformat": 4,
 "nbformat_minor": 5
}
